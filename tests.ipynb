{
 "cells": [
  {
   "cell_type": "code",
   "execution_count": 12,
   "metadata": {},
   "outputs": [],
   "source": [
    "\n",
    "text = \"\"\"\n",
    "# pylint: disable=W,R,C,import-error\n",
    "\n",
    "from RenderPrimitives import Image\n",
    "from UIElement import UIElement\n",
    "from Options import PATH\n",
    "\n",
    "\n",
    "class PanelPlacer(UIElement):\n",
    "    \n",
    "    packaged_panel = (\n",
    "        Image(f\"{PATH}/advanced_editor/panel_crate.png\", 0, 0, 33, 33),\n",
    "        Image(f\"{PATH}/advanced_editor/panel_crate_hovered.png\", 0, 0, 33, 33),\n",
    "        Image(f\"{PATH}/advanced_editor/panel_crate_selected.png\", 0, 0, 33, 33),\n",
    "        Image(f\"{PATH}/advanced_editor/panel_crate_selected_hovered.png\", 0, 0, 33, 33)\n",
    "    )\n",
    "    \n",
    "    def __init__(self, parent_shelf):\n",
    "        self.parent_shelf = parent_shelf\n",
    "        self.width = 33\n",
    "        self.height = 33\n",
    "        self.frame = 0\n",
    "        self.hovered = False\n",
    "        self._alt_text = \"Drag & drop panel on to\\nconstruction canvas\"\n",
    "        \n",
    "    def _event(self, editor, X, Y):\n",
    "        # print(f\"event: {X}, {Y}\")\n",
    "        editor.check_hover(editor, (X, Y, self.width, self.height), self)\n",
    "        \n",
    "        if self.hovered:\n",
    "            self.frame = 1\n",
    "            if editor.left_mouse_down():\n",
    "                self.frame = 2\n",
    "                editor.holding = True\n",
    "                editor.held = self\n",
    "                self.parent_shelf.placer = None\n",
    "                editor.hold_offset = (editor.mouse_pos[0]-X, editor.mouse_pos[1]-Y)\n",
    "        else:\n",
    "            self.frame = 0\n",
    "            self.hovered = False\n",
    "        \n",
    "    \n",
    "    def _update(self, editor, X, Y):\n",
    "        PanelPlacer.packaged_panel[self.frame]._update(editor, X, Y)\n",
    "\n",
    "\"\"\"\n",
    "\n",
    "lines = text.split(\"\\n\")\n"
   ]
  },
  {
   "cell_type": "code",
   "execution_count": 13,
   "metadata": {},
   "outputs": [
    {
     "ename": "ValueError",
     "evalue": "setting an array element with a sequence. The requested array has an inhomogeneous shape after 1 dimensions. The detected shape was (47,) + inhomogeneous part.",
     "output_type": "error",
     "traceback": [
      "\u001b[1;31m---------------------------------------------------------------------------\u001b[0m",
      "\u001b[1;31mValueError\u001b[0m                                Traceback (most recent call last)",
      "Cell \u001b[1;32mIn[13], line 4\u001b[0m\n\u001b[0;32m      1\u001b[0m \u001b[38;5;28;01mimport\u001b[39;00m \u001b[38;5;21;01mnumpy\u001b[39;00m\n\u001b[1;32m----> 4\u001b[0m x \u001b[38;5;241m=\u001b[39m \u001b[43mnumpy\u001b[49m\u001b[38;5;241;43m.\u001b[39;49m\u001b[43marray\u001b[49m\u001b[43m(\u001b[49m\u001b[43m[\u001b[49m\u001b[43mnumpy\u001b[49m\u001b[38;5;241;43m.\u001b[39;49m\u001b[43marray\u001b[49m\u001b[43m(\u001b[49m\u001b[43m[\u001b[49m\u001b[38;5;241;43m*\u001b[39;49m\u001b[43mline\u001b[49m\u001b[43m]\u001b[49m\u001b[43m)\u001b[49m\u001b[43m \u001b[49m\u001b[38;5;28;43;01mfor\u001b[39;49;00m\u001b[43m \u001b[49m\u001b[43mline\u001b[49m\u001b[43m \u001b[49m\u001b[38;5;129;43;01min\u001b[39;49;00m\u001b[43m \u001b[49m\u001b[43mlines\u001b[49m\u001b[43m]\u001b[49m\u001b[43m)\u001b[49m\n\u001b[0;32m      7\u001b[0m \u001b[38;5;28mprint\u001b[39m(x)\n",
      "\u001b[1;31mValueError\u001b[0m: setting an array element with a sequence. The requested array has an inhomogeneous shape after 1 dimensions. The detected shape was (47,) + inhomogeneous part."
     ]
    }
   ],
   "source": [
    "\n",
    "import numpy\n",
    "\n",
    "\n",
    "x = numpy.array([numpy.array([*line]) for line in lines])\n",
    "\n",
    "\n",
    "print(x)\n",
    "\n"
   ]
  },
  {
   "cell_type": "code",
   "execution_count": 6,
   "metadata": {},
   "outputs": [
    {
     "name": "stdout",
     "output_type": "stream",
     "text": [
      "[['H', 'e', 'l', 'l', 'o', ','], ['W', 'o', 'r', 'l', 'd', '!']]\n"
     ]
    }
   ],
   "source": [
    "\n",
    "x = [[*line] for line in lines]\n",
    "\n",
    "print(x)"
   ]
  }
 ],
 "metadata": {
  "kernelspec": {
   "display_name": "Python 3",
   "language": "python",
   "name": "python3"
  },
  "language_info": {
   "codemirror_mode": {
    "name": "ipython",
    "version": 3
   },
   "file_extension": ".py",
   "mimetype": "text/x-python",
   "name": "python",
   "nbconvert_exporter": "python",
   "pygments_lexer": "ipython3",
   "version": "3.12.0"
  }
 },
 "nbformat": 4,
 "nbformat_minor": 2
}
