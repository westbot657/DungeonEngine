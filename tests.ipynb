{
 "cells": [
  {
   "cell_type": "code",
   "execution_count": 4,
   "metadata": {},
   "outputs": [],
   "source": [
    "class Editor:\n",
    "    def __init__(self, x, y):\n",
    "        self.x = x\n",
    "        self.y = y\n",
    "        self.z = \"hello there\""
   ]
  },
  {
   "cell_type": "code",
   "execution_count": 5,
   "metadata": {},
   "outputs": [],
   "source": [
    "class Canvas:\n",
    "    def __init__(self, x, y, w):\n",
    "        self.x = x\n",
    "        self.y = y\n",
    "        self.w = w"
   ]
  },
  {
   "cell_type": "code",
   "execution_count": 6,
   "metadata": {},
   "outputs": [],
   "source": [
    "from typing import Any\n",
    "\n",
    "class _Canvas:\n",
    "    def __init__(self, editor, canvas):\n",
    "        super().__setattr__(\"_editor\", editor)\n",
    "        super().__setattr__(\"_canvas\", canvas)\n",
    "    \n",
    "    def __getattribute__(self, __name: str) -> Any:\n",
    "        if __name == \"_editor\":\n",
    "            return super().__getattribute__(\"_editor\")\n",
    "        elif __name == \"_canvas\":\n",
    "            return super().__getattribute__(\"_canvas\")\n",
    "        elif __name == \"Width\":\n",
    "            #co = getattr(super().__getattribute__(\"_scrollable\"), \"offsetX\")\n",
    "            cx = getattr(super().__getattribute__(\"_canvas\"), \"x\")# - getattr(super().__getattribute__(\"_scrollable\"), \"offsetX\")\n",
    "            cw = getattr(super().__getattribute__(\"_canvas\"), \"width\")# - getattr(super().__getattribute__(\"_scrollable\"), \"offsetX\")\n",
    "            if hasattr(super().__getattribute__(\"_editor\"), \"x\"):\n",
    "                fx = getattr(super().__getattribute__(\"_editor\"), \"x\")\n",
    "            else: fx = 0\n",
    "            if hasattr(super().__getattribute__(\"_editor\"), \"get_width\"):\n",
    "                fw = getattr(super().__getattribute__(\"_editor\"), \"get_width\")()\n",
    "            else: fw = getattr(super().__getattribute__(\"_editor\"), \"width\")\n",
    "            if fx + fw <= fx + cx + cw: return fw - cx\n",
    "            return cw# - co\n",
    "        elif __name == \"Height\":\n",
    "            #co = getattr(super().__getattribute__(\"_scrollable\"), \"offsetY\")\n",
    "            cx = getattr(super().__getattribute__(\"_canvas\"), \"y\")# - getattr(super().__getattribute__(\"_scrollable\"), \"offsetY\")\n",
    "            cw = getattr(super().__getattribute__(\"_canvas\"), \"height\")# - getattr(super().__getattribute__(\"_scrollable\"), \"offsetY\")\n",
    "            if hasattr(super().__getattribute__(\"_editor\"), \"y\"):\n",
    "                fx = getattr(super().__getattribute__(\"_editor\"), \"y\")\n",
    "            else: fx = 0\n",
    "            if hasattr(super().__getattribute__(\"_editor\"), \"get_height\"):\n",
    "                fw = getattr(super().__getattribute__(\"_editor\"), \"get_height\")()\n",
    "            else: fw = getattr(super().__getattribute__(\"_editor\"), \"height\")\n",
    "            if fx + fw <= fx + cx + cw: return fw - cx\n",
    "            return cw# - co\n",
    "        elif __name == \"X\":\n",
    "            return max(0, getattr(super().__getattribute__(\"_canvas\"), \"x\"))\n",
    "        elif __name == \"Y\":\n",
    "            return max(0, getattr(super().__getattribute__(\"_canvas\"), \"y\"))\n",
    "        elif hasattr(super().__getattribute__(\"_canvas\"), __name):\n",
    "            return getattr(super().__getattribute__(\"_canvas\"), __name)\n",
    "        elif hasattr(super().__getattribute__(\"_editor\"), __name):\n",
    "            return getattr(super().__getattribute__(\"_editor\"), __name)\n",
    "        else:\n",
    "            raise AttributeError\n",
    "    def __setattr__(self, __name: str, __value) -> None:\n",
    "        if __name == \"_editor\":\n",
    "            super().__setattr__(\"_editor\", __value)\n",
    "        elif hasattr(super().__getattribute__(\"_canvas\"), __name):\n",
    "            setattr(super().__getattribute__(\"_canvas\"), __name, __value)\n",
    "        elif hasattr(super().__getattribute__(\"_editor\"), __name):\n",
    "            setattr(super().__getattribute__(\"_editor\"), __name, __value)\n",
    "        else:\n",
    "            setattr(super().__getattribute__(\"_canvas\"), __name, __value)\n"
   ]
  },
  {
   "cell_type": "code",
   "execution_count": 8,
   "metadata": {},
   "outputs": [
    {
     "name": "stdout",
     "output_type": "stream",
     "text": [
      "hello there\n"
     ]
    }
   ],
   "source": [
    "c = Canvas(8, 9, \"banana\")\n",
    "e = Editor(5, 6)\n",
    "\n",
    "\n",
    "canvas1 = _Canvas(e, c)\n",
    "\n",
    "c2 = Canvas(54, 12, \"I am a potato\")\n",
    "\n",
    "canvas2 = _Canvas(canvas1, c2)\n",
    "\n",
    "print(canvas2.z)"
   ]
  },
  {
   "cell_type": "code",
   "execution_count": null,
   "metadata": {},
   "outputs": [],
   "source": []
  }
 ],
 "metadata": {
  "kernelspec": {
   "display_name": "Python 3",
   "language": "python",
   "name": "python3"
  },
  "language_info": {
   "codemirror_mode": {
    "name": "ipython",
    "version": 3
   },
   "file_extension": ".py",
   "mimetype": "text/x-python",
   "name": "python",
   "nbconvert_exporter": "python",
   "pygments_lexer": "ipython3",
   "version": "3.12.0"
  }
 },
 "nbformat": 4,
 "nbformat_minor": 2
}
